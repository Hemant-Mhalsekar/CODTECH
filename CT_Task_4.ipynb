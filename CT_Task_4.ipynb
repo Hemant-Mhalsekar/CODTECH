{
  "nbformat": 4,
  "nbformat_minor": 0,
  "metadata": {
    "colab": {
      "provenance": [],
      "authorship_tag": "ABX9TyM4qA6CgRD3hNs3a10/yYt8",
      "include_colab_link": true
    },
    "kernelspec": {
      "name": "python3",
      "display_name": "Python 3"
    },
    "language_info": {
      "name": "python"
    }
  },
  "cells": [
    {
      "cell_type": "markdown",
      "metadata": {
        "id": "view-in-github",
        "colab_type": "text"
      },
      "source": [
        "<a href=\"https://colab.research.google.com/github/Hemant-Mhalsekar/CODTECH/blob/main/CT_Task_4.ipynb\" target=\"_parent\"><img src=\"https://colab.research.google.com/assets/colab-badge.svg\" alt=\"Open In Colab\"/></a>"
      ]
    },
    {
      "cell_type": "code",
      "source": [
        "!pip install numpy==1.24.3\n",
        "!pip install scikit-surprise --no-binary :all:"
      ],
      "metadata": {
        "colab": {
          "base_uri": "https://localhost:8080/"
        },
        "id": "KqTwc3bneTqB",
        "outputId": "3dec1273-ac21-4c6c-ebef-cdc222692802"
      },
      "execution_count": 1,
      "outputs": [
        {
          "output_type": "stream",
          "name": "stdout",
          "text": [
            "Requirement already satisfied: numpy==1.24.3 in /usr/local/lib/python3.11/dist-packages (1.24.3)\n",
            "Requirement already satisfied: scikit-surprise in /usr/local/lib/python3.11/dist-packages (1.1.4)\n",
            "Requirement already satisfied: joblib>=1.2.0 in /usr/local/lib/python3.11/dist-packages (from scikit-surprise) (1.5.1)\n",
            "Requirement already satisfied: numpy>=1.19.5 in /usr/local/lib/python3.11/dist-packages (from scikit-surprise) (1.24.3)\n",
            "Requirement already satisfied: scipy>=1.6.0 in /usr/local/lib/python3.11/dist-packages (from scikit-surprise) (1.15.3)\n"
          ]
        }
      ]
    },
    {
      "cell_type": "code",
      "execution_count": 3,
      "metadata": {
        "colab": {
          "base_uri": "https://localhost:8080/"
        },
        "id": "dKUl_NzSc0ku",
        "outputId": "e5079478-c671-4ae5-c6c3-1606144c24ba"
      },
      "outputs": [
        {
          "output_type": "stream",
          "name": "stdout",
          "text": [
            "Evaluating RMSE, MAE of algorithm SVD on 5 split(s).\n",
            "\n",
            "                  Fold 1  Fold 2  Fold 3  Fold 4  Fold 5  Mean    Std     \n",
            "RMSE (testset)    0.9351  0.9354  0.9373  0.9398  0.9397  0.9375  0.0020  \n",
            "MAE (testset)     0.7376  0.7389  0.7368  0.7418  0.7399  0.7390  0.0017  \n",
            "Fit time          1.25    1.27    1.31    1.29    1.54    1.33    0.11    \n",
            "Test time         0.12    0.26    0.13    0.20    0.19    0.18    0.05    \n",
            "user: 196        item: 302        r_ui = None   est = 4.24   {'was_impossible': False}\n"
          ]
        }
      ],
      "source": [
        "# Task 4: Recommendation System (Collaborative Filtering)\n",
        "\n",
        "from surprise import Dataset, Reader, SVD\n",
        "from surprise.model_selection import cross_validate\n",
        "\n",
        "# Load MovieLens dataset\n",
        "data = Dataset.load_builtin('ml-100k')\n",
        "\n",
        "# Define algorithm - SVD (Singular Value Decomposition)\n",
        "algo = SVD()\n",
        "\n",
        "# Evaluate performance using cross-validation\n",
        "cross_validate(algo, data, measures=['RMSE', 'MAE'], cv=5, verbose=True)\n",
        "\n",
        "# Train on full dataset\n",
        "trainset = data.build_full_trainset()\n",
        "algo.fit(trainset)\n",
        "\n",
        "# Predict rating for a user and item\n",
        "uid = str(196)  # user ID\n",
        "iid = str(302)  # item ID\n",
        "pred = algo.predict(uid, iid, verbose=True)\n"
      ]
    },
    {
      "cell_type": "code",
      "source": [],
      "metadata": {
        "id": "aGPnnUgbdTJl"
      },
      "execution_count": null,
      "outputs": []
    }
  ]
}