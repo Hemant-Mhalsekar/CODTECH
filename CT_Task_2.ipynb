{
  "nbformat": 4,
  "nbformat_minor": 0,
  "metadata": {
    "colab": {
      "provenance": [],
      "authorship_tag": "ABX9TyNuWh6dPHUkYwM8Vi65tr5y",
      "include_colab_link": true
    },
    "kernelspec": {
      "name": "python3",
      "display_name": "Python 3"
    },
    "language_info": {
      "name": "python"
    }
  },
  "cells": [
    {
      "cell_type": "markdown",
      "metadata": {
        "id": "view-in-github",
        "colab_type": "text"
      },
      "source": [
        "<a href=\"https://colab.research.google.com/github/Hemant-Mhalsekar/CODTECH/blob/main/CT_Task_2.ipynb\" target=\"_parent\"><img src=\"https://colab.research.google.com/assets/colab-badge.svg\" alt=\"Open In Colab\"/></a>"
      ]
    },
    {
      "cell_type": "code",
      "execution_count": 4,
      "metadata": {
        "colab": {
          "base_uri": "https://localhost:8080/"
        },
        "id": "VSuPMnmXqefY",
        "outputId": "29c7cdfd-d615-4f7b-e63d-158a72d90aee"
      },
      "outputs": [
        {
          "output_type": "stream",
          "name": "stdout",
          "text": [
            "Sample Data:\n",
            "                                       review  sentiment\n",
            "0        I love this product, it is amazing!          1\n",
            "1  Worst experience ever. Very disappointed.          0\n",
            "2              Absolutely fantastic service!          1\n",
            "3               I will never buy this again.          0\n",
            "4                 Best purchase I have made.          1\n",
            "5          Terrible product. Waste of money.          0\n",
            "\n",
            "Feature Names after TF-IDF:\n",
            " ['absolutely' 'amazing' 'best' 'buy' 'disappointed' 'experience'\n",
            " 'fantastic' 'love' 'money' 'product' 'purchase' 'service' 'terrible'\n",
            " 'waste' 'worst']\n",
            "\n",
            "Accuracy: 0.5\n",
            "\n",
            "Confusion Matrix:\n",
            " [[1 0]\n",
            " [1 0]]\n",
            "\n",
            "Classification Report:\n",
            "               precision    recall  f1-score   support\n",
            "\n",
            "           0       0.50      1.00      0.67         1\n",
            "           1       0.00      0.00      0.00         1\n",
            "\n",
            "    accuracy                           0.50         2\n",
            "   macro avg       0.25      0.50      0.33         2\n",
            "weighted avg       0.25      0.50      0.33         2\n",
            "\n"
          ]
        },
        {
          "output_type": "stream",
          "name": "stderr",
          "text": [
            "/usr/local/lib/python3.11/dist-packages/sklearn/metrics/_classification.py:1565: UndefinedMetricWarning: Precision is ill-defined and being set to 0.0 in labels with no predicted samples. Use `zero_division` parameter to control this behavior.\n",
            "  _warn_prf(average, modifier, f\"{metric.capitalize()} is\", len(result))\n",
            "/usr/local/lib/python3.11/dist-packages/sklearn/metrics/_classification.py:1565: UndefinedMetricWarning: Precision is ill-defined and being set to 0.0 in labels with no predicted samples. Use `zero_division` parameter to control this behavior.\n",
            "  _warn_prf(average, modifier, f\"{metric.capitalize()} is\", len(result))\n",
            "/usr/local/lib/python3.11/dist-packages/sklearn/metrics/_classification.py:1565: UndefinedMetricWarning: Precision is ill-defined and being set to 0.0 in labels with no predicted samples. Use `zero_division` parameter to control this behavior.\n",
            "  _warn_prf(average, modifier, f\"{metric.capitalize()} is\", len(result))\n"
          ]
        }
      ],
      "source": [
        "# Task 2: Sentiment Analysis (TF-IDF + Logistic Regression)\n",
        "\n",
        "import pandas as pd\n",
        "from sklearn.feature_extraction.text import TfidfVectorizer\n",
        "from sklearn.linear_model import LogisticRegression\n",
        "from sklearn.model_selection import train_test_split\n",
        "from sklearn.metrics import accuracy_score, confusion_matrix, classification_report\n",
        "\n",
        "# 1. Preprocessing: Load & Clean Data\n",
        "data = {\n",
        "    'review': [\n",
        "        'I love this product, it is amazing!',\n",
        "        'Worst experience ever. Very disappointed.',\n",
        "        'Absolutely fantastic service!',\n",
        "        'I will never buy this again.',\n",
        "        'Best purchase I have made.',\n",
        "        'Terrible product. Waste of money.'\n",
        "    ],\n",
        "    'sentiment': [1, 0, 1, 0, 1, 0]  # 1: Positive, 0: Negative\n",
        "}\n",
        "\n",
        "df = pd.DataFrame(data)\n",
        "print(\"Sample Data:\\n\", df)\n",
        "\n",
        "# 2. TF-IDF Vectorization (Feature Extraction)\n",
        "tfidf = TfidfVectorizer(stop_words='english')  # removing common stopwords\n",
        "X = tfidf.fit_transform(df['review'])\n",
        "y = df['sentiment']\n",
        "\n",
        "print(\"\\nFeature Names after TF-IDF:\\n\", tfidf.get_feature_names_out())\n",
        "\n",
        "# 3. Split the data (Training and Testing)\n",
        "X_train, X_test, y_train, y_test = train_test_split(\n",
        "    X, y, test_size=0.33, random_state=42)\n",
        "\n",
        "# 4. Modeling: Logistic Regression\n",
        "model = LogisticRegression()\n",
        "model.fit(X_train, y_train)\n",
        "\n",
        "# 5. Prediction\n",
        "y_pred = model.predict(X_test)\n",
        "\n",
        "# 6. Evaluation\n",
        "acc = accuracy_score(y_test, y_pred)\n",
        "cm = confusion_matrix(y_test, y_pred)\n",
        "report = classification_report(y_test, y_pred)\n",
        "\n",
        "print(\"\\nAccuracy:\", acc)\n",
        "print(\"\\nConfusion Matrix:\\n\", cm)\n",
        "print(\"\\nClassification Report:\\n\", report)\n"
      ]
    },
    {
      "cell_type": "code",
      "source": [],
      "metadata": {
        "id": "y1SLxVW3rYa9"
      },
      "execution_count": null,
      "outputs": []
    }
  ]
}